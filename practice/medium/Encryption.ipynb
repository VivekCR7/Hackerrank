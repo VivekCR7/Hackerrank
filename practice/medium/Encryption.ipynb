{
 "cells": [
  {
   "cell_type": "code",
   "execution_count": 3,
   "metadata": {},
   "outputs": [
    {
     "name": "stdout",
     "output_type": "stream",
     "text": [
      "haveaniceday\n",
      "hae and via ecy\n"
     ]
    }
   ],
   "source": [
    "from math import *\n",
    "def encryption(s):\n",
    "    n = len(s)\n",
    "    r = floor(sqrt(n))\n",
    "    c = ceil(sqrt(n))\n",
    "\n",
    "    result = []\n",
    "\n",
    "    for i in range(c):\n",
    "        temp = []\n",
    "        j = 0\n",
    "        while i+j<n:\n",
    "            temp.append(s[i+j])\n",
    "            j+=c\n",
    "        result.append(\"\".join(temp))\n",
    "    \n",
    "    return \" \".join(result)\n",
    "\n",
    "s = input()\n",
    "print(encryption(s))"
   ]
  }
 ],
 "metadata": {
  "kernelspec": {
   "display_name": "Python 3",
   "language": "python",
   "name": "python3"
  },
  "language_info": {
   "codemirror_mode": {
    "name": "ipython",
    "version": 3
   },
   "file_extension": ".py",
   "mimetype": "text/x-python",
   "name": "python",
   "nbconvert_exporter": "python",
   "pygments_lexer": "ipython3",
   "version": "3.8.3"
  }
 },
 "nbformat": 4,
 "nbformat_minor": 4
}
