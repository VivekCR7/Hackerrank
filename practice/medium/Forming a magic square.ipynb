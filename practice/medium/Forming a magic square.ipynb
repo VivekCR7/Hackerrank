{
 "cells": [
  {
   "cell_type": "code",
   "execution_count": 2,
   "metadata": {},
   "outputs": [
    {
     "name": "stdout",
     "output_type": "stream",
     "text": [
      "4 8 2 \n",
      "4 5 7 \n",
      "6 1 6\n",
      "4\n"
     ]
    }
   ],
   "source": [
    "s = []\n",
    "for _ in range(3):\n",
    "    s.append(list(map(int,input().rstrip().split())))\n",
    "    \n",
    "def formingMagicSquare(s):\n",
    "    data = [\n",
    "        [[8,1,6], [3,5,7], [4,9,2]],\n",
    "        [[6,1,8], [7,5,3], [2,9,4]],\n",
    "        [[4,9,2], [3,5,7], [8,1,6]],\n",
    "        [[2,9,4], [7,5,3], [6,1,8]],\n",
    "        [[8,3,4], [1,5,9], [6,7,2]],\n",
    "        [[4,3,8],[9,5,1], [2,7,6]],\n",
    "        [[6,7,2], [1,5,9], [8,3,4]],\n",
    "        [[2,7,6], [9,5,1], [4,3,8]],\n",
    "    ]\n",
    "\n",
    "    ans = []\n",
    "    for i in data:\n",
    "        res = 0\n",
    "        for j,k in zip(i, s):\n",
    "            for x,y in zip(j, k):\n",
    "                res += max([x,y]) - min([x,y])\n",
    "        ans.append(res)\n",
    "\n",
    "    return min(ans)\n",
    "\n",
    "print(formingMagicSquare(s))"
   ]
  }
 ],
 "metadata": {
  "kernelspec": {
   "display_name": "Python 3",
   "language": "python",
   "name": "python3"
  },
  "language_info": {
   "codemirror_mode": {
    "name": "ipython",
    "version": 3
   },
   "file_extension": ".py",
   "mimetype": "text/x-python",
   "name": "python",
   "nbconvert_exporter": "python",
   "pygments_lexer": "ipython3",
   "version": "3.8.3"
  }
 },
 "nbformat": 4,
 "nbformat_minor": 4
}
