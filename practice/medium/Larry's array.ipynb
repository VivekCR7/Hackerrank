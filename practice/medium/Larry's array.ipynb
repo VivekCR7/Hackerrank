{
 "cells": [
  {
   "cell_type": "code",
   "execution_count": 7,
   "metadata": {},
   "outputs": [
    {
     "name": "stdout",
     "output_type": "stream",
     "text": [
      "3\n",
      "3\n",
      "3 1 2\n",
      "YES\n",
      "4\n",
      "1 3 4 2\n",
      "YES\n",
      "5\n",
      "1 2 3 5 4\n",
      "NO\n"
     ]
    }
   ],
   "source": [
    "def larrysArray(A):\n",
    "    inversion = 0\n",
    "\n",
    "    for i in range(0,n):\n",
    "        for j in range(i+1,n):\n",
    "            if A[i]>A[j]:\n",
    "                inversion+=1\n",
    "    \n",
    "    if inversion % 2 == 0:\n",
    "        return \"YES\"\n",
    "    else:\n",
    "        return \"NO\"\n",
    "\n",
    "for _ in range(int(input())):\n",
    "    n = int(input())\n",
    "    \n",
    "    A = list(map(int,input().rstrip().split()))\n",
    "    \n",
    "    print(larrysArray(A))"
   ]
  }
 ],
 "metadata": {
  "kernelspec": {
   "display_name": "Python 3",
   "language": "python",
   "name": "python3"
  },
  "language_info": {
   "codemirror_mode": {
    "name": "ipython",
    "version": 3
   },
   "file_extension": ".py",
   "mimetype": "text/x-python",
   "name": "python",
   "nbconvert_exporter": "python",
   "pygments_lexer": "ipython3",
   "version": "3.8.3"
  }
 },
 "nbformat": 4,
 "nbformat_minor": 4
}
