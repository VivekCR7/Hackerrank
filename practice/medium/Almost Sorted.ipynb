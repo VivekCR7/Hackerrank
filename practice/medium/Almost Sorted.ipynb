{
 "cells": [
  {
   "cell_type": "code",
   "execution_count": 5,
   "metadata": {},
   "outputs": [
    {
     "name": "stdout",
     "output_type": "stream",
     "text": [
      "5\n",
      "1 5 4 3 2 6\n",
      "yes\n",
      "reverse 2 5\n",
      "None\n"
     ]
    }
   ],
   "source": [
    "n = int(input())\n",
    "arr = [int(i) for i in input().split()]\n",
    "\n",
    "from copy import *\n",
    "def almostsorted(arr):\n",
    "\n",
    "    sortarr = deepcopy(arr) #copy array elements\n",
    "    sortarr.sort() #sort\n",
    "    \n",
    "    #if arr is sorted\n",
    "    if sortarr == arr:\n",
    "        print(\"yes\")\n",
    "        return\n",
    "    \n",
    "    #if arr can be sorted\n",
    "    l = r = -1\n",
    "    \n",
    "    #left index\n",
    "    for i in range(n-1):\n",
    "        if arr[i]>arr[i+1]:\n",
    "            l = i\n",
    "            break\n",
    "    #right index\n",
    "    for i in range(n-1,0,-1):\n",
    "        if arr[i] < arr[i-1]:\n",
    "            r = i\n",
    "            break\n",
    "    \n",
    "    #check for swap\n",
    "    temp = deepcopy(arr)\n",
    "    \n",
    "    #swap\n",
    "    temp[l],temp[r] = temp[r],temp[l]\n",
    "    \n",
    "    if temp == sortarr:\n",
    "        print(\"yes\")\n",
    "        print(\"swap\",l+1,r+1)   #one base indexing\n",
    "        return\n",
    "    \n",
    "    #check for reverse\n",
    "    temp = deepcopy(arr)\n",
    "    \n",
    "    #reverse\n",
    "    temp = temp[:l] + temp[l:r+1][::-1] + temp[r+1:]\n",
    "    \n",
    "    if temp == sortarr:\n",
    "        print(\"yes\")\n",
    "        print(\"reverse\",l+1,r+1)\n",
    "        return\n",
    "        \n",
    "    return \"no\"\n",
    "    \n",
    "        \n",
    "print(almostsorted(arr))"
   ]
  }
 ],
 "metadata": {
  "kernelspec": {
   "display_name": "Python 3",
   "language": "python",
   "name": "python3"
  },
  "language_info": {
   "codemirror_mode": {
    "name": "ipython",
    "version": 3
   },
   "file_extension": ".py",
   "mimetype": "text/x-python",
   "name": "python",
   "nbconvert_exporter": "python",
   "pygments_lexer": "ipython3",
   "version": "3.8.3"
  }
 },
 "nbformat": 4,
 "nbformat_minor": 4
}
