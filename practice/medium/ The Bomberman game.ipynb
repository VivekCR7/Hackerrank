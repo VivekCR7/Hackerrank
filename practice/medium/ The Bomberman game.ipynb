{
 "cells": [
  {
   "cell_type": "code",
   "execution_count": 1,
   "metadata": {},
   "outputs": [
    {
     "name": "stdout",
     "output_type": "stream",
     "text": [
      "6 7 3\n",
      "....... \n",
      "...O...\n",
      "....O.. \n",
      "....... \n",
      "OO..... \n",
      "OO.....\n",
      "['OOO.OOO', 'OO...OO', 'OOO...O', '..OO.OO', '...OOOO', '...OOOO']\n"
     ]
    }
   ],
   "source": [
    "def bomberMan(n, grid):\n",
    "    if n == 1:\n",
    "        return grid\n",
    "\n",
    "  #all cells filled with bomb\n",
    "    if n%2 == 0:    #in even sec all cell is filled with bomb\n",
    "        return ['O'*c for i in range(r)]\n",
    "\n",
    "  \n",
    "  #at alternate cells\n",
    "    n //= 2\n",
    "    for q in range((n+1) % 2 + 1):\n",
    "        new_grid = [['O']*c for i in range(r)]\n",
    "\n",
    "        def set(x,y):\n",
    "            if 0<=x<r and 0<=y<c:\n",
    "                new_grid[x][y] = '.'\n",
    "\n",
    "        xi = [0,0,0,1,-1]\n",
    "        yi = [0,-1,1,0,0]\n",
    "\n",
    "        for x in range(r):\n",
    "            for y in range(c):\n",
    "                #check for bomb\n",
    "                if grid[x][y] == 'O':\n",
    "                #detonate cell by calling function\n",
    "                    for i,j in zip(xi,yi):\n",
    "                        set(x+i,y+j)\n",
    "\n",
    "        grid = new_grid\n",
    "\n",
    "    return [\"\".join(x) for x in grid]\n",
    "\n",
    "r, c, n = map(int,input().split())\n",
    "grid= []\n",
    "for _ in range(r):\n",
    "    i = input()\n",
    "    grid.append(i)\n",
    "\n",
    "print(bomberMan(n, grid))"
   ]
  }
 ],
 "metadata": {
  "kernelspec": {
   "display_name": "Python 3",
   "language": "python",
   "name": "python3"
  },
  "language_info": {
   "codemirror_mode": {
    "name": "ipython",
    "version": 3
   },
   "file_extension": ".py",
   "mimetype": "text/x-python",
   "name": "python",
   "nbconvert_exporter": "python",
   "pygments_lexer": "ipython3",
   "version": "3.8.3"
  }
 },
 "nbformat": 4,
 "nbformat_minor": 4
}
