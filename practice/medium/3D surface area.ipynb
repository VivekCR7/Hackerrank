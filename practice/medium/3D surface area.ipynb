{
 "cells": [
  {
   "cell_type": "code",
   "execution_count": 2,
   "metadata": {},
   "outputs": [
    {
     "name": "stdout",
     "output_type": "stream",
     "text": [
      "3 3\n",
      "1 3 4 \n",
      "2 2 3 \n",
      "1 2 4\n",
      "60\n"
     ]
    }
   ],
   "source": [
    "def surfaceArea(A):\n",
    "      #area of top and bottom \n",
    "    area = 2*H*W\n",
    "\n",
    "    def check(i,j):\n",
    "        return A[x+i][y+j] if 0<=x+i<H and 0<=y+j<W else 0\n",
    "\n",
    "    #remaining surfaces\n",
    "    xi = [0,0,1,1]\n",
    "    yi = [1,-1,0,0]\n",
    "\n",
    "    for x in range(H):\n",
    "        for y in range(W):\n",
    "            for i, j in zip(xi,yi):\n",
    "                area += max(0,A[x][y]- check(i,j))\n",
    "\n",
    "    return area\n",
    "\n",
    "H, W = map(int,input().split())\n",
    "A = []\n",
    "for _ in range(H):\n",
    "    A.append(list(map(int, input().rstrip().split())))\n",
    "    \n",
    "print(surfaceArea(A))"
   ]
  }
 ],
 "metadata": {
  "kernelspec": {
   "display_name": "Python 3",
   "language": "python",
   "name": "python3"
  },
  "language_info": {
   "codemirror_mode": {
    "name": "ipython",
    "version": 3
   },
   "file_extension": ".py",
   "mimetype": "text/x-python",
   "name": "python",
   "nbconvert_exporter": "python",
   "pygments_lexer": "ipython3",
   "version": "3.8.3"
  }
 },
 "nbformat": 4,
 "nbformat_minor": 4
}
