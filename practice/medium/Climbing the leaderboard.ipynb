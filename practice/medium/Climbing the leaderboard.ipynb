{
 "cells": [
  {
   "cell_type": "code",
   "execution_count": 1,
   "metadata": {},
   "outputs": [
    {
     "name": "stdout",
     "output_type": "stream",
     "text": [
      "7 \n",
      "100 100 50 40 40 20 10 \n",
      "4\n",
      "5 25 50 120\n",
      "[6, 4, 2, 1]\n"
     ]
    }
   ],
   "source": [
    "ranked_count = int(input().strip())\n",
    "\n",
    "ranked = list(map(int,input().rstrip().split()))\n",
    "\n",
    "player_count = int(input().strip())\n",
    "\n",
    "player = list(map(int,input().rstrip().split()))\n",
    "\n",
    "\n",
    "def climbingLeaderboard(ranked, player):\n",
    "    # Write your code here\n",
    "    ranked = sorted(list(set(ranked)), reverse = True)\n",
    "    player.sort(reverse = True)\n",
    "    j = 0\n",
    "    l = len(ranked)\n",
    "    result = []\n",
    "    for i in range(len(player)):\n",
    "        while j<l and player[i]<ranked[j]:\n",
    "            j+=1\n",
    "        result.append(j+1)\n",
    "    return result[::-1]\n",
    "\n",
    "\n",
    "print(climbingLeaderboard(ranked,player))"
   ]
  }
 ],
 "metadata": {
  "kernelspec": {
   "display_name": "Python 3",
   "language": "python",
   "name": "python3"
  },
  "language_info": {
   "codemirror_mode": {
    "name": "ipython",
    "version": 3
   },
   "file_extension": ".py",
   "mimetype": "text/x-python",
   "name": "python",
   "nbconvert_exporter": "python",
   "pygments_lexer": "ipython3",
   "version": "3.8.3"
  }
 },
 "nbformat": 4,
 "nbformat_minor": 4
}
