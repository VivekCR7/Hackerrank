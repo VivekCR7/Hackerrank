{
 "cells": [
  {
   "cell_type": "code",
   "execution_count": 1,
   "metadata": {},
   "outputs": [
    {
     "name": "stdout",
     "output_type": "stream",
     "text": [
      "7\n",
      "45\n",
      "quarter to eight\n"
     ]
    }
   ],
   "source": [
    "def timeInWords(h, m):\n",
    "    Time = {1:'one', 2:'two',3:'three',4:'four',5:'five',6:'six',7:'seven',8:'eight',9:'nine',10:'ten',11:'eleven',12:'twelve',\n",
    "  13:'thirteen',14:'fourteen',15:'fifteen',16:'sixteen',17:'seventeen',\n",
    "  18:'eighteen',19:'nineteen',20:'twenty',21:'twenty one',22:'twenty two',23:'twenty three',24:'twenty four',25:'twenty five',26:'twenty seven',28:'twenty eight',29:'twenty nine'}\n",
    "\n",
    "    if m == 0:\n",
    "        return Time[h] + \" o' clock\"\n",
    "\n",
    "    elif m == 30:\n",
    "        return \"half past \" + Time[h]\n",
    "\n",
    "    elif m < 30:\n",
    "        if m == 1:\n",
    "            return \"one minute past \" + Time[h]\n",
    "        \n",
    "        elif m == 15:\n",
    "            return \"quarter past \" + Time[h]\n",
    "\n",
    "        else:\n",
    "            return Time[m] + \" minutes past \" + Time[h]\n",
    "    \n",
    "    else:\n",
    "        m = 60-m\n",
    "        h += 1\n",
    "\n",
    "        if m == 1:\n",
    "            return \"one minute to \" + Time[h]\n",
    "        \n",
    "        elif m == 15:\n",
    "            return \"quarter to \" + Time[h]\n",
    "\n",
    "        else:\n",
    "            return Time[m] + \" minutes to \" + Time[h]\n",
    "\n",
    "        \n",
    "h = int(input())\n",
    "m = int(input())\n",
    "\n",
    "print(timeInWords(h,m))"
   ]
  }
 ],
 "metadata": {
  "kernelspec": {
   "display_name": "Python 3",
   "language": "python",
   "name": "python3"
  },
  "language_info": {
   "codemirror_mode": {
    "name": "ipython",
    "version": 3
   },
   "file_extension": ".py",
   "mimetype": "text/x-python",
   "name": "python",
   "nbconvert_exporter": "python",
   "pygments_lexer": "ipython3",
   "version": "3.8.3"
  }
 },
 "nbformat": 4,
 "nbformat_minor": 4
}
