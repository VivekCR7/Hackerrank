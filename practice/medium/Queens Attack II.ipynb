{
 "cells": [
  {
   "cell_type": "code",
   "execution_count": 2,
   "metadata": {},
   "outputs": [
    {
     "name": "stdout",
     "output_type": "stream",
     "text": [
      "5 3 \n",
      "4 3 \n",
      "5 5 \n",
      "4 2 \n",
      "2 3\n",
      "10\n"
     ]
    }
   ],
   "source": [
    "def queensAttack(n, k, rq, cq, obstacles):\n",
    "    #no obstacles\n",
    "    left = cq - 1\n",
    "    right = n - cq\n",
    "    up = n - rq\n",
    "    down = rq - 1\n",
    "\n",
    "    upleft = min(up,left)\n",
    "    upright = min(up,right)\n",
    "    downleft = min(left,down)\n",
    "    downright = min(down,right)\n",
    "\n",
    "\n",
    "    #obsatcles are present\n",
    "    for obst in obstacles:\n",
    "        row = obst[0]\n",
    "        col = obst[1]\n",
    "\n",
    "        if row == rq:\n",
    "            if col > cq:\n",
    "                up = min(up, col-cq-1)\n",
    "            else:\n",
    "                down = min(down,cq-col-1)\n",
    "        \n",
    "        elif col == cq:\n",
    "            if row > rq:\n",
    "                right = min(right,row-rq-1)\n",
    "            else:\n",
    "                left = min(left,rq-row-1)\n",
    "\n",
    "        elif abs(col-cq) == abs(row-rq):\n",
    "            if col > cq and row > rq:\n",
    "                upright = min(upright, col-cq-1)\n",
    "            elif col > cq and row < rq:\n",
    "                downright = min(downright,col-cq-1)\n",
    "            elif col < cq and row >rq:\n",
    "                upleft = min(upleft, cq-col-1)\n",
    "            elif col < cq and row < rq:\n",
    "                downleft = min(downleft, cq-col-1)\n",
    "\n",
    "    return up+down+left+right+upleft+upright+downleft+downright\n",
    "\n",
    "\n",
    "n,k = map(int,input().split())\n",
    "rq,cq = map(int,input().split())\n",
    "\n",
    "obstacles = []\n",
    "\n",
    "for _ in range(k):\n",
    "    obstacles.append(list(map(int, input().rstrip().split())))\n",
    "    \n",
    "print(queensAttack(n,k,rq,cq,obstacles))"
   ]
  }
 ],
 "metadata": {
  "kernelspec": {
   "display_name": "Python 3",
   "language": "python",
   "name": "python3"
  },
  "language_info": {
   "codemirror_mode": {
    "name": "ipython",
    "version": 3
   },
   "file_extension": ".py",
   "mimetype": "text/x-python",
   "name": "python",
   "nbconvert_exporter": "python",
   "pygments_lexer": "ipython3",
   "version": "3.8.3"
  }
 },
 "nbformat": 4,
 "nbformat_minor": 4
}
