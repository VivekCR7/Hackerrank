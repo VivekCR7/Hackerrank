{
 "cells": [
  {
   "cell_type": "code",
   "execution_count": 1,
   "metadata": {},
   "outputs": [
    {
     "name": "stdout",
     "output_type": "stream",
     "text": [
      "5 6 \n",
      "GGGGGG \n",
      "GBBBGB \n",
      "GGGGGG \n",
      "GGBBGB \n",
      "GGGGGG\n",
      "5\n"
     ]
    }
   ],
   "source": [
    "n, m = map(int,input().split())\n",
    "\n",
    "grid = []\n",
    "for _ in range(n):\n",
    "  grid_i = input()\n",
    "  grid.append(grid_i)\n",
    "\n",
    "def TwoPluses(grid):\n",
    "  #create a border of matrix\n",
    "  temp = []\n",
    "  temp.append(['O'] * (m+2))  #first row\n",
    "  for i in range(n):\n",
    "    temp.append(['O']+ list(grid[i]) + ['O'])  #grid rows\n",
    "  \n",
    "  temp.append(['O'] * (m+2))  #last row\n",
    "\n",
    "  grid = temp\n",
    "  \n",
    "  ans = 0\n",
    "\n",
    "  for i in range(1,n+1):\n",
    "    for j in range(1,m+1):\n",
    "      #track plus\n",
    "      r = 0\n",
    "      while grid[i+r][j] == \"G\" and grid[i-r][j] == \"G\" and grid[i][j+r] == \"G\" and grid[i][j-r] == \"G\":\n",
    "          grid[i+r][j] = grid[i-r][j] = grid[i][j+r] = grid[i][j-r] = 'g'\n",
    "\n",
    "          for I in range(1,n+1):\n",
    "            for J in range(1,n+1):\n",
    "              R = 0\n",
    "              while grid[I+R][J] == \"G\" and grid[I-R][J] == \"G\" and grid[I][J+R] == \"G\" and grid[I][J-R] == \"G\":\n",
    "                  ans = max(ans,(4*r+1)*(4*R+1))\n",
    "\n",
    "                  R+=1\n",
    "          r+=1\n",
    "      \n",
    "      r = 0\n",
    "      while grid[i+r][j] == \"G\" and grid[i-r][j] == \"G\" and grid[i][j+r] == \"G\" and grid[i][j-r] == \"G\":\n",
    "          grid[i+r][j] = grid[i-r][j] = grid[i][j+r] = grid[i][j-r] = 'G'\n",
    "          r+=1\n",
    "\n",
    "  return ans\n",
    "\n",
    "print(TwoPluses(grid))    \n"
   ]
  }
 ],
 "metadata": {
  "kernelspec": {
   "display_name": "Python 3",
   "language": "python",
   "name": "python3"
  },
  "language_info": {
   "codemirror_mode": {
    "name": "ipython",
    "version": 3
   },
   "file_extension": ".py",
   "mimetype": "text/x-python",
   "name": "python",
   "nbconvert_exporter": "python",
   "pygments_lexer": "ipython3",
   "version": "3.8.3"
  }
 },
 "nbformat": 4,
 "nbformat_minor": 4
}
