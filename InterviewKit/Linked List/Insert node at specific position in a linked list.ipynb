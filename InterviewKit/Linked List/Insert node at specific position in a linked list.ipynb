{
 "cells": [
  {
   "cell_type": "code",
   "execution_count": 8,
   "metadata": {},
   "outputs": [
    {
     "name": "stdout",
     "output_type": "stream",
     "text": [
      "1 2 3 4 5\n",
      "5\n",
      "5\n",
      "1->2->3->4->5."
     ]
    },
    {
     "data": {
      "text/plain": [
       "5"
      ]
     },
     "execution_count": 8,
     "metadata": {},
     "output_type": "execute_result"
    }
   ],
   "source": [
    "class Node:\n",
    "    def __init__(self,data):\n",
    "        self.data = data\n",
    "        self.next = None\n",
    "        \n",
    "        \n",
    "def length(head):\n",
    "    if not head:\n",
    "        return 0\n",
    "    return 1+length(head.next)\n",
    "    \n",
    "def insert_at_position(head,data,pos):\n",
    "    if not head:\n",
    "        return\n",
    "    \n",
    "    #special case:\n",
    "    if pos > length(head):\n",
    "        return\n",
    "    \n",
    "    if pos == 0:\n",
    "        newnode = Node(data)\n",
    "        newnode.next = head\n",
    "        head = newnode\n",
    "    \n",
    "    smallhead = insert_at_position(head.next,data,pos-1)\n",
    "    head.next = smallhead\n",
    "    return head\n",
    "        \n",
    "        \n",
    "def takeinput():\n",
    "    inputlist = [int(ele) for ele in input().split()]\n",
    "    head = tail = None\n",
    "    for curr_data in inputlist:\n",
    "        if curr_data == -1:\n",
    "            break\n",
    "        \n",
    "        newnode = Node(curr_data)\n",
    "        if head is None:\n",
    "            head = tail = newnode\n",
    "        else:\n",
    "            tail.next = newnode\n",
    "            tail = newnode\n",
    "    return head\n",
    "\n",
    "def printLL(head):\n",
    "    while head is not None:\n",
    "        if head.next:\n",
    "            print(str(head.data)+\"->\",end=\"\")\n",
    "        else:\n",
    "            print(str(head.data),end=\".\")\n",
    "        head = head.next\n",
    "    return\n",
    "\n",
    "head = takeinput()\n",
    "length(head)\n",
    "data = int(input())\n",
    "pos = int(input())\n",
    "head = insert_at_position(head,data,pos) \n",
    "printLL(head)\n",
    "length(head)\n",
    "            \n",
    "    "
   ]
  }
 ],
 "metadata": {
  "kernelspec": {
   "display_name": "Python 3",
   "language": "python",
   "name": "python3"
  },
  "language_info": {
   "codemirror_mode": {
    "name": "ipython",
    "version": 3
   },
   "file_extension": ".py",
   "mimetype": "text/x-python",
   "name": "python",
   "nbconvert_exporter": "python",
   "pygments_lexer": "ipython3",
   "version": "3.8.3"
  }
 },
 "nbformat": 4,
 "nbformat_minor": 4
}
