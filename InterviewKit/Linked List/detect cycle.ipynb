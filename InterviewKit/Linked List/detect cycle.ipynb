{
 "cells": [
  {
   "cell_type": "raw",
   "metadata": {},
   "source": [
    "\"\"\"\n",
    "Detect a cycle in a linked list. Note that the head pointer may be 'None' if the list is empty.\n",
    "\n",
    "A Node is defined as: \n",
    " \n",
    "    class Node(object):\n",
    "        def __init__(self, data = None, next_node = None):\n",
    "            self.data = data\n",
    "            self.next = next_node\n",
    "\"\"\"\n",
    "\n",
    "\n",
    "def has_cycle(head):\n",
    "    if head is None:\n",
    "        return False\n",
    "    else:\n",
    "        slow = head\n",
    "        fast = head.next\n",
    "        while slow!=fast:\n",
    "            if fast is None or fast.next is None:\n",
    "                return False\n",
    "            else:\n",
    "                slow = slow.next\n",
    "                fast = fast.next.next\n",
    "        return True"
   ]
  }
 ],
 "metadata": {
  "kernelspec": {
   "display_name": "Python 3",
   "language": "python",
   "name": "python3"
  },
  "language_info": {
   "codemirror_mode": {
    "name": "ipython",
    "version": 3
   },
   "file_extension": ".py",
   "mimetype": "text/x-python",
   "name": "python",
   "nbconvert_exporter": "python",
   "pygments_lexer": "ipython3",
   "version": "3.8.3"
  }
 },
 "nbformat": 4,
 "nbformat_minor": 4
}
