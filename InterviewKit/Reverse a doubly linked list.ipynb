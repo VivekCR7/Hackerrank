{
 "cells": [
  {
   "cell_type": "code",
   "execution_count": 7,
   "metadata": {},
   "outputs": [
    {
     "name": "stdout",
     "output_type": "stream",
     "text": [
      "1 2 3 4 5\n",
      "1<->2<->3<->4<->5.\n",
      "5<->4<->3<->2<->1."
     ]
    }
   ],
   "source": [
    "class Node:\n",
    "    def __init__(self,data):\n",
    "        self.data = data\n",
    "        self.next = None\n",
    "        self.prev = None\n",
    "\n",
    "def Reverse_DLL(head):\n",
    "    if head is None or head.next is None:\n",
    "        return head\n",
    "    \n",
    "    smallhead = Reverse_DLL(head.next)\n",
    "    tail = head.next\n",
    "    tail.next = head\n",
    "    head.next = None\n",
    "    head.prev = tail\n",
    "    return smallhead\n",
    "             \n",
    "def takeinput(): \n",
    "    inputlist = [int(ele) for ele in input().split()]\n",
    "    head = tail = None\n",
    "    for curr_data in inputlist:\n",
    "        if curr_data == -1:\n",
    "            break\n",
    "        \n",
    "        newnode = Node(curr_data)\n",
    "        \n",
    "        if head is None:\n",
    "            head = tail = newnode\n",
    "        else:\n",
    "            tail.next = newnode\n",
    "            tail = newnode\n",
    "            tail.prev = head\n",
    "            \n",
    "    return head\n",
    "\n",
    "def printLL(head):\n",
    "    while head is not None:\n",
    "        if head.next:\n",
    "            print(str(head.data)+\"<->\",end=\"\")\n",
    "        else:\n",
    "            print(str(head.data),end=\".\")\n",
    "        head = head.next\n",
    "        \n",
    "    return\n",
    "\n",
    "head = takeinput()\n",
    "printLL(head)\n",
    "head = Reverse_DLL(head)\n",
    "print()\n",
    "printLL(head)\n"
   ]
  }
 ],
 "metadata": {
  "kernelspec": {
   "display_name": "Python 3",
   "language": "python",
   "name": "python3"
  },
  "language_info": {
   "codemirror_mode": {
    "name": "ipython",
    "version": 3
   },
   "file_extension": ".py",
   "mimetype": "text/x-python",
   "name": "python",
   "nbconvert_exporter": "python",
   "pygments_lexer": "ipython3",
   "version": "3.8.3"
  }
 },
 "nbformat": 4,
 "nbformat_minor": 4
}
